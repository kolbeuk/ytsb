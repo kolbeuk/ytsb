{
 "cells": [
  {
   "cell_type": "code",
   "execution_count": null,
   "metadata": {},
   "outputs": [],
   "source": [
    "from pytube import YouTube\n",
    "import concurrent.futures\n",
    "import sys\n",
    "import os\n",
    "import whisper\n",
    "import datetime"
   ]
  },
  {
   "cell_type": "code",
   "execution_count": null,
   "metadata": {},
   "outputs": [],
   "source": [
    "def download_and_transcribe(urls):\n",
    "    try:\n",
    "        print(\"strated\")\n",
    "        yt = YouTube(urls)\n",
    "        yt = YouTube(\n",
    "            urls,\n",
    "            use_oauth=False,\n",
    "            allow_oauth_cache=True\n",
    "        )\n",
    "        print(\"URL \" + urls)\n",
    "        print(\"Starting Stream\")\n",
    "        stream = yt.streams.get_lowest_resolution()\n",
    "        print(f\"Downloading video: {yt.title}\")\n",
    "        stream.download()\n",
    "        print(f\"Downloaded video: {yt.title}\")\n",
    "    \n",
    "        return stream.default_filename\n",
    "    \n",
    "    except Exception as e:\n",
    "        print(f\"Error initializing YouTube object: {e}\")\n",
    "        \n",
    "        Return None\n",
    "\n",
    "def transcribe_video(filename):\n",
    "        # Transcribe the video\n",
    "        try:\n",
    "            # Load the Whisper model\n",
    "            model = whisper.load_model(\"tiny\")\n",
    "            print(\"Whisper model loaded.\")\n",
    "\n",
    "            print(f\"Transcribing video: {yt.title}\")\n",
    "            result = model.transcribe(filename, fp16=False, verbose=None)\n",
    "            \n",
    "            # Get the current date and time\n",
    "            current_datetime = datetime.datetime.now().strftime(\"%m-%d_%H-%M\")\n",
    "\n",
    "            # Modify the transcript filename\n",
    "            transcript_filename = f\"{current_datetime}_{yt.title}.txt\".replace('/', '_').replace('\\\\', '_')\n",
    "            \n",
    "            # Write the transcription to a file\n",
    "            with open(transcript_filename, 'w') as file:\n",
    "                file.write(result['text'])\n",
    "            \n",
    "            print(f\"Transcription saved to '{transcript_filename}'\")\n",
    "            \n",
    "            # Attempt to delete the file\n",
    "            os.remove(filename)\n",
    "            \n",
    "        except Exception as e:\n",
    "            print(f\"Error during transcription: {e}\")\n",
    "        return"
   ]
  },
  {
   "cell_type": "code",
   "execution_count": null,
   "metadata": {},
   "outputs": [],
   "source": [
    "def main():\n",
    "    # Define the URLs list here with your specific URL\n",
    "    urls = [\"https://www.youtube.com/watch?v=yO8pJSZh_C0&t=1s\"]\n",
    "\n",
    "    with concurrent.futures.ThreadPoolExecutor(max_workers=10) as executor:\n",
    "        # Pass the model as an argument to each invocation of transcribe_video\n",
    "        # executor.map(lambda file: download_and_transcribe(file), urls)\n",
    "        # Download videos and transcribe concurrently\n",
    "        futures = []\n",
    "        for url in urls:\n",
    "            # Download and get the filename\n",
    "            filename = download_and_transcribe(url)\n",
    "            if filename:\n",
    "                # Submit the filename to the transcribe_video function\n",
    "                futures.append(executor.submit(transcribe_video, filename))\n",
    "\n",
    "        # Wait for all tasks to complete\n",
    "        concurrent.futures.wait(futures)"
   ]
  },
  {
   "cell_type": "code",
   "execution_count": null,
   "metadata": {},
   "outputs": [],
   "source": [
    "if __name__ == \"__main__\":\n",
    "    main()"
   ]
  },
  {
   "cell_type": "markdown",
   "metadata": {},
   "source": []
  }
 ],
 "metadata": {
  "kernelspec": {
   "display_name": "Python 3",
   "language": "python",
   "name": "python3"
  },
  "language_info": {
   "codemirror_mode": {
    "name": "ipython",
    "version": 3
   },
   "file_extension": ".py",
   "mimetype": "text/x-python",
   "name": "python",
   "nbconvert_exporter": "python",
   "pygments_lexer": "ipython3",
   "version": "3.11.6"
  }
 },
 "nbformat": 4,
 "nbformat_minor": 2
}
